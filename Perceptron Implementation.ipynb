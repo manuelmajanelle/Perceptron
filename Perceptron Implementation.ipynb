{
 "cells": [
  {
   "cell_type": "code",
   "execution_count": 9,
   "metadata": {},
   "outputs": [
    {
     "name": "stdout",
     "output_type": "stream",
     "text": [
      "-0.0010000000000000009 0.2588693958 -0.23320000000000002\n",
      "-0.201 -0.0600389850000001 0.506\n"
     ]
    },
    {
     "data": {
      "image/png": "[encoded data removed]",
      "text/plain": [
       "<Figure size 432x288 with 1 Axes>"
      ]
     },
     "metadata": {
      "needs_background": "light"
     },
     "output_type": "display_data"
    }
   ],
   "source": [
    "import numpy as np\n",
    "import matplotlib.pyplot as plt\n",
    "b_color=[0.840155945,0.838206628,0.803118908,0.964912281,0.863547758,0.840155945,0.929824561,0.847953216,0.859649123,0.85380117,0.937621832,0.916179337,0.931773879,0.906432749,0.910331384,0.760233918,0.851851852,0.923976608,0.884990253,0.894736842,1]\n",
    "b_ratio=[0.24,0.205,0.253,0.2,0.287,0.223,0.267,0.287,0.241,0.245,0.251,0.337,0.242,0.342,0.222,0.242,0.249,0.285,0.239,0.216,0.342]\n",
    "m_color=[0.779727096,0.801169591,0.779727096,0.877192982,0.750487329,0.904483431,0.71539961,0.79337232,0.764132554,0.736842105,0.764132554,0.789473684,0.719298246,0.838206628,0.803118908,0.768031189,0.785575049,0.807017544,0.729044834,0.83625731,0.884990253]\n",
    "m_ratio=[0.776,0.751,0.512,0.851,0.6,0.735,0.623,0.655,0.749,0.608,0.662,0.756,0.696,0.754,0.798,0.751,0.549,0.675,0.534,0.667,0.577]\n",
    "o_color=[0.485380117,0.493177388,0.504873294,0.635477583,0.489278752,0.633528265,0.516569201,0.518518519,0.450292398,0.524366472,0.461988304,0.43079922,0.49122807,0.549707602,0.547758285,0.485380117,0.493177388,0.520467836,0.485380117,0.454191033,0.604288499]\n",
    "o_ratio=[0.942,0.962,0.986,0.984,0.984,0.956,0.953,0.977,0.885,0.87,0.991,0.962,0.968,0.927,0.897,0.966,0.966,0.911,0.911,0.993,0.94]\n",
    "#Combining features\n",
    "x = m_color + o_color\n",
    "y = m_ratio + o_ratio\n",
    "\n",
    "g = m_color + b_color\n",
    "h = m_ratio + b_ratio\n",
    "\n",
    "weights1 = [-0.001, 0.2, -0.2]\n",
    "weights2 = [-0.001, 0.2, -0.2]\n",
    "rate= 0.1\n",
    "\n",
    "#Training weights mangoes vs oranges\n",
    "def function(a):\n",
    "    if a >= 0:\n",
    "        return 1\n",
    "    else:\n",
    "        return -1\n",
    "    \n",
    "for i in range(100):\n",
    "    for j in range(42):\n",
    "        if j < 21:\n",
    "            d = 1\n",
    "        else:\n",
    "            d = -1\n",
    "        a = weights1[0] + x[j]*weights1[1] + y[j]*weights1[2]\n",
    "        z = function(a)\n",
    "        \n",
    "        weights1[0] += rate*(d-z)\n",
    "        weights1[1] += rate*(d-z)*x[j]\n",
    "        weights1[2] += rate*(d-z)*y[j]\n",
    "        \n",
    "#Training weights mangoes vs bananas\n",
    "\n",
    "for i in range(100):\n",
    "    for j in range(42):\n",
    "        if j < 21:\n",
    "            d = 1\n",
    "        else:\n",
    "            d = -1\n",
    "        a = weights2[0] + g[j]*weights2[1] + h[j]*weights2[2]\n",
    "        z = function(a)\n",
    "        \n",
    "        weights2[0] += rate*(d-z)\n",
    "        weights2[1] += rate*(d-z)*g[j]\n",
    "        weights2[2] += rate*(d-z)*h[j]\n",
    "        \n",
    "\n",
    "\n",
    "fig, ax = plt.subplots()\n",
    "\n",
    "ax.set_ylim([0, 1])\n",
    "ax.set_xlim([0.4, 1])\n",
    "\n",
    "ax.scatter(b_color, b_ratio, c=\"r\",label='bananas')\n",
    "ax.scatter(m_color, m_ratio, c=\"y\",label='mangoes')\n",
    "ax.scatter(o_color, o_ratio, c=\"orange\",label='oranges')\n",
    "\n",
    "w0 = weights1[0]\n",
    "w1 = weights1[1]\n",
    "w2 = weights1[2]\n",
    "m1 = -w1 / w2\n",
    "b1 = -w0 / w2\n",
    "v0 = weights2[0]\n",
    "v1 = weights2[1]\n",
    "v2 = weights2[2]\n",
    "m2 = -v1 / v2\n",
    "b2 = -v0 / v2\n",
    "\n",
    "X= np.arange(0,8)\n",
    "Y= np.arange(0,8)\n",
    "print(w0,w1,w2)\n",
    "print(v0,v1,v2)\n",
    "ax.plot(X, m1 * X + b1)\n",
    "ax.plot(Y, m2 * Y + b2)\n",
    "\n",
    "\n",
    "ax.legend()\n",
    "plt.ylabel('Aspect Ratio')\n",
    "plt.xlabel('Color (HSV)')\n",
    "plt.show()\n"
   ]
  },
  {
   "cell_type": "code",
   "execution_count": null,
   "metadata": {},
   "outputs": [],
   "source": []
  }
 ],
 "metadata": {
  "kernelspec": {
   "display_name": "Python 3 (ipykernel)",
   "language": "python",
   "name": "python3"
  },
  "language_info": {
   "codemirror_mode": {
    "name": "ipython",
    "version": 3
   },
   "file_extension": ".py",
   "mimetype": "text/x-python",
   "name": "python",
   "nbconvert_exporter": "python",
   "pygments_lexer": "ipython3",
   "version": "3.9.12"
  }
 },
 "nbformat": 4,
 "nbformat_minor": 2
}
